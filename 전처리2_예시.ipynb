{
  "nbformat": 4,
  "nbformat_minor": 0,
  "metadata": {
    "colab": {
      "name": "전처리2 예시",
      "provenance": []
    },
    "kernelspec": {
      "name": "python3",
      "display_name": "Python 3"
    },
    "language_info": {
      "name": "python"
    }
  },
  "cells": [
    {
      "cell_type": "code",
      "metadata": {
        "colab": {
          "base_uri": "https://localhost:8080/"
        },
        "id": "uT2DU6IrrMKJ",
        "outputId": "6c275c1b-31c5-43f1-c1ab-c85824b63a1d"
      },
      "source": [
        "!pip install pypianoroll\n",
        "import pypianoroll"
      ],
      "execution_count": null,
      "outputs": [
        {
          "output_type": "stream",
          "name": "stdout",
          "text": [
            "Collecting pypianoroll\n",
            "  Downloading pypianoroll-1.0.4-py3-none-any.whl (26 kB)\n",
            "Collecting pretty-midi>=0.2.8\n",
            "  Downloading pretty_midi-0.2.9.tar.gz (5.6 MB)\n",
            "\u001b[K     |████████████████████████████████| 5.6 MB 38.3 MB/s \n",
            "\u001b[?25hRequirement already satisfied: scipy>=1.0.0 in /usr/local/lib/python3.7/dist-packages (from pypianoroll) (1.4.1)\n",
            "Requirement already satisfied: numpy>=1.12.0 in /usr/local/lib/python3.7/dist-packages (from pypianoroll) (1.19.5)\n",
            "Requirement already satisfied: matplotlib>=1.5 in /usr/local/lib/python3.7/dist-packages (from pypianoroll) (3.2.2)\n",
            "Requirement already satisfied: pyparsing!=2.0.4,!=2.1.2,!=2.1.6,>=2.0.1 in /usr/local/lib/python3.7/dist-packages (from matplotlib>=1.5->pypianoroll) (2.4.7)\n",
            "Requirement already satisfied: cycler>=0.10 in /usr/local/lib/python3.7/dist-packages (from matplotlib>=1.5->pypianoroll) (0.10.0)\n",
            "Requirement already satisfied: kiwisolver>=1.0.1 in /usr/local/lib/python3.7/dist-packages (from matplotlib>=1.5->pypianoroll) (1.3.2)\n",
            "Requirement already satisfied: python-dateutil>=2.1 in /usr/local/lib/python3.7/dist-packages (from matplotlib>=1.5->pypianoroll) (2.8.2)\n",
            "Requirement already satisfied: six in /usr/local/lib/python3.7/dist-packages (from cycler>=0.10->matplotlib>=1.5->pypianoroll) (1.15.0)\n",
            "Collecting mido>=1.1.16\n",
            "  Downloading mido-1.2.10-py2.py3-none-any.whl (51 kB)\n",
            "\u001b[K     |████████████████████████████████| 51 kB 8.6 MB/s \n",
            "\u001b[?25hBuilding wheels for collected packages: pretty-midi\n",
            "  Building wheel for pretty-midi (setup.py) ... \u001b[?25l\u001b[?25hdone\n",
            "  Created wheel for pretty-midi: filename=pretty_midi-0.2.9-py3-none-any.whl size=5591953 sha256=61f46b47615d0cdd50b19d54625a396c0172ab4ef0ad1c9fe4ba1427494d95e4\n",
            "  Stored in directory: /root/.cache/pip/wheels/ad/74/7c/a06473ca8dcb63efb98c1e67667ce39d52100f837835ea18fa\n",
            "Successfully built pretty-midi\n",
            "Installing collected packages: mido, pretty-midi, pypianoroll\n",
            "Successfully installed mido-1.2.10 pretty-midi-0.2.9 pypianoroll-1.0.4\n"
          ]
        }
      ]
    },
    {
      "cell_type": "code",
      "metadata": {
        "colab": {
          "base_uri": "https://localhost:8080/"
        },
        "id": "fd7Sy5nptq45",
        "outputId": "860d2b4c-ffec-4592-b292-36c79ff56206"
      },
      "source": [
        "multitrack = pypianoroll.read(\"보류.mid\")\n",
        "print(multitrack)"
      ],
      "execution_count": null,
      "outputs": [
        {
          "output_type": "stream",
          "name": "stdout",
          "text": [
            "Multitrack(name=None, resolution=24, tempo=array(shape=(7296, 1), dtype=float64), downbeat=array(shape=(7296, 1), dtype=bool), tracks=[StandardTrack(name='Melody / Acoustic piano', program=0, is_drum=False, pianoroll=array(shape=(7296, 128), dtype=uint8)), StandardTrack(name='Piano / Acoustic piano', program=0, is_drum=False, pianoroll=array(shape=(7296, 128), dtype=uint8)), StandardTrack(name='Bass / Acoustic bass', program=32, is_drum=False, pianoroll=array(shape=(7296, 128), dtype=uint8)), StandardTrack(name='Drums / Traps', program=25, is_drum=True, pianoroll=array(shape=(7296, 128), dtype=uint8))])\n"
          ]
        }
      ]
    },
    {
      "cell_type": "code",
      "metadata": {
        "id": "rmuGO8Q_t8bX",
        "colab": {
          "base_uri": "https://localhost:8080/"
        },
        "outputId": "0ecf468e-f945-43d6-8157-4cf5dfac9ec0"
      },
      "source": [
        "multitrack=multitrack.trim(0,5000)\n",
        "print(multitrack)\n",
        "pypianoroll.save(\"8.npz\", multitrack=multitrack, compressed=True)"
      ],
      "execution_count": null,
      "outputs": [
        {
          "output_type": "stream",
          "name": "stdout",
          "text": [
            "Multitrack(name=None, resolution=24, tempo=array(shape=(5000, 1), dtype=float64), downbeat=array(shape=(5000, 1), dtype=bool), tracks=[StandardTrack(name='Melody / Acoustic piano', program=0, is_drum=False, pianoroll=array(shape=(5000, 128), dtype=uint8)), StandardTrack(name='Piano / Acoustic piano', program=0, is_drum=False, pianoroll=array(shape=(5000, 128), dtype=uint8)), StandardTrack(name='Bass / Acoustic bass', program=32, is_drum=False, pianoroll=array(shape=(5000, 128), dtype=uint8)), StandardTrack(name='Drums / Traps', program=25, is_drum=True, pianoroll=array(shape=(5000, 128), dtype=uint8))])\n"
          ]
        }
      ]
    }
  ]
}